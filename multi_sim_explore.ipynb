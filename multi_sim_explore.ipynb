{
 "cells": [
  {
   "cell_type": "code",
   "execution_count": 1,
   "metadata": {},
   "outputs": [
    {
     "ename": "ModuleNotFoundError",
     "evalue": "No module named 'msprime'",
     "output_type": "error",
     "traceback": [
      "\u001b[0;31m---------------------------------------------------------------------------\u001b[0m",
      "\u001b[0;31mModuleNotFoundError\u001b[0m                       Traceback (most recent call last)",
      "\u001b[0;32m/tmp/ipykernel_2362511/719860701.py\u001b[0m in \u001b[0;36m<module>\u001b[0;34m\u001b[0m\n\u001b[0;32m----> 1\u001b[0;31m \u001b[0;32mimport\u001b[0m \u001b[0mmsprime\u001b[0m\u001b[0;34m,\u001b[0m \u001b[0mstdpopsim\u001b[0m\u001b[0;34m,\u001b[0m \u001b[0mtskit\u001b[0m\u001b[0;34m,\u001b[0m \u001b[0mgzip\u001b[0m\u001b[0;34m,\u001b[0m \u001b[0mattr\u001b[0m\u001b[0;34m,\u001b[0m \u001b[0mdemes\u001b[0m\u001b[0;34m,\u001b[0m \u001b[0mdemesdraw\u001b[0m\u001b[0;34m\u001b[0m\u001b[0;34m\u001b[0m\u001b[0m\n\u001b[0m\u001b[1;32m      2\u001b[0m \u001b[0;34m\u001b[0m\u001b[0m\n\u001b[1;32m      3\u001b[0m \u001b[0;32mfrom\u001b[0m \u001b[0mdemes\u001b[0m \u001b[0;32mimport\u001b[0m \u001b[0mconvert\u001b[0m\u001b[0;34m\u001b[0m\u001b[0;34m\u001b[0m\u001b[0m\n\u001b[1;32m      4\u001b[0m \u001b[0;34m\u001b[0m\u001b[0m\n\u001b[1;32m      5\u001b[0m \u001b[0;32mfrom\u001b[0m \u001b[0mmatplotlib\u001b[0m \u001b[0;32mimport\u001b[0m \u001b[0mcollections\u001b[0m  \u001b[0;32mas\u001b[0m \u001b[0mmc\u001b[0m\u001b[0;34m\u001b[0m\u001b[0;34m\u001b[0m\u001b[0m\n",
      "\u001b[0;31mModuleNotFoundError\u001b[0m: No module named 'msprime'"
     ]
    }
   ],
   "source": [
    "import msprime, stdpopsim, tskit, gzip, attr, demes, demesdraw\n",
    "\n",
    "from demes import convert\n",
    "\n",
    "from matplotlib import collections  as mc\n",
    "import matplotlib.pyplot as plt\n",
    "import numpy as np\n",
    "import pandas as pd\n",
    "import time as t\n",
    "import multiprocessing as mp\n",
    "from intervaltree import Interval, IntervalTree\n",
    "from itertools import chain\n",
    "from collections import defaultdict"
   ]
  },
  {
   "cell_type": "code",
   "execution_count": null,
   "metadata": {},
   "outputs": [],
   "source": [
    "import msprime, stdpopsim, tskit, gzip\n",
    "\n",
    "from matplotlib import collections  as mc\n",
    "import matplotlib.pyplot as plt\n",
    "import numpy as np\n",
    "import pandas as pd\n",
    "import time as t\n",
    "import multiprocessing as mp\n",
    "from intervaltree import Interval, IntervalTree\n",
    "from itertools import chain\n",
    "from collections import defaultdict"
   ]
  },
  {
   "cell_type": "code",
   "execution_count": null,
   "metadata": {},
   "outputs": [],
   "source": [
    "multi_graph = demes.load(\"../multi-way-demes.yaml\")"
   ]
  },
  {
   "cell_type": "code",
   "execution_count": null,
   "metadata": {},
   "outputs": [],
   "source": [
    "fig_w, fig_h = plt.figaspect(12 / 16.0)\n",
    "_, ax = plt.subplots(figsize=(fig_w, fig_h), dpi=300)\n",
    "ax.set_yscale(\"log\", base=10)\n",
    "multi = demesdraw.tubes(multi_graph, \n",
    "                        num_lines_per_migration=3,\n",
    "                        ax=ax,\n",
    "                        inf_ratio=0.6,\n",
    "                        seed=1111)"
   ]
  },
  {
   "cell_type": "code",
   "execution_count": null,
   "metadata": {},
   "outputs": [],
   "source": [
    "ms_model = convert.to_msprime(multi_graph)\n",
    "popsim_model = convert.to_stdpopsim(multi_graph)"
   ]
  },
  {
   "cell_type": "code",
   "execution_count": null,
   "metadata": {},
   "outputs": [],
   "source": [
    "ms_demography = msprime.Demography.from_old_style(population_configurations=ms_model[0], \n",
    "                                      demographic_events=ms_model[1],\n",
    "                                      migration_matrix=ms_model[2])"
   ]
  },
  {
   "cell_type": "code",
   "execution_count": null,
   "metadata": {},
   "outputs": [],
   "source": [
    "seed = 1111\n",
    "\n",
    "species = stdpopsim.get_species(\"HomSap\")\n",
    "contig = species.get_contig(\"chr22\")\n",
    "nbp = contig.recombination_map.get_length()\n",
    "mu = contig.mutation_rate\n",
    "hapmap = species.get_genetic_map(\"HapMapII_GRCh37\").get_chromosome_map(\"chr22\").map"
   ]
  },
  {
   "cell_type": "code",
   "execution_count": null,
   "metadata": {},
   "outputs": [],
   "source": [
    "ts = msprime.sim_ancestry(samples={\"Nama\": 5000,\n",
    "                                   \"SAC\": 5000,\n",
    "                                   \"GBR\": 1000,\n",
    "                                   \"MSL\": 1000,\n",
    "                                   \"EP\": 1000,\n",
    "                                   \"EAS\": 1000,\n",
    "                                   \"SAS\": 1000},\n",
    "                          demography=ms_demography, \n",
    "                          recombination_rate=hapmap,\n",
    "                          gene_conversion_rate=2e-7,\n",
    "                          gene_conversion_tract_length=125,\n",
    "                          random_seed=seed,\n",
    "                          record_migrations=True\n",
    ")"
   ]
  },
  {
   "cell_type": "code",
   "execution_count": null,
   "metadata": {},
   "outputs": [],
   "source": [
    "ts.dump(\"/home/gerald/Documents/PhD/papers/paper4/multi_5000.tree\")"
   ]
  },
  {
   "cell_type": "code",
   "execution_count": null,
   "metadata": {},
   "outputs": [],
   "source": [
    "ts_mu = msprime.sim_mutations(ts, \n",
    "                               rate=mu, \n",
    "                               random_seed=seed)"
   ]
  },
  {
   "cell_type": "code",
   "execution_count": null,
   "metadata": {},
   "outputs": [],
   "source": [
    "ts_mu.dump(\"/home/gerald/Documents/PhD/papers/paper4/multi_mu_5000.tree\")"
   ]
  },
  {
   "cell_type": "code",
   "execution_count": null,
   "metadata": {},
   "outputs": [],
   "source": [
    "sample_nodes = list()\n",
    "pop_nodes = list()\n",
    "\n",
    "for node in ts_mu.nodes():\n",
    "    if node.time == 0 :\n",
    "        sample_nodes.append(node.id)\n",
    "        if node.population == 4:\n",
    "            pop_nodes.append(\"Nama\")\n",
    "        if node.population == 6:\n",
    "            pop_nodes.append(\"MSL\")\n",
    "        if node.population == 7:\n",
    "            pop_nodes.append(\"GBR\")\n",
    "        if node.population == 8:\n",
    "            pop_nodes.append(\"EP\")\n",
    "        if node.population == 10:\n",
    "            pop_nodes.append(\"EAS\")\n",
    "        if node.population == 11:\n",
    "            pop_nodes.append(\"SAS\")\n",
    "        if node.population == 12:\n",
    "            pop_nodes.append(\"SAC\")"
   ]
  },
  {
   "cell_type": "code",
   "execution_count": null,
   "metadata": {},
   "outputs": [],
   "source": [
    "n_dip_indv = int(len(sample_nodes) / 2)\n",
    "indv_names = [f\"{pop_nodes[2*i]}{sample_nodes[2*i]}_{pop_nodes[2*i+1]}{sample_nodes[2*i+1]}\" for i in range(n_dip_indv)]\n",
    "with gzip.open(\"/home/gerald/Documents/PhD/papers/paper4/Multi_sim_5000.vcf.gz\", \"wt\") as vcf_file:\n",
    "    ts_mu.write_vcf(vcf_file, position_transform=\"legacy\", contig_id=22, individual_names=indv_names)"
   ]
  },
  {
   "cell_type": "code",
   "execution_count": null,
   "metadata": {},
   "outputs": [],
   "source": []
  },
  {
   "cell_type": "code",
   "execution_count": null,
   "metadata": {},
   "outputs": [],
   "source": [
    "def merge_intervals(intervals):\n",
    "    \"\"\"takes a list of (population-specific) ancestry intervals and combines them into contiguous intervals\"\"\"\n",
    "    merged_intervals = []\n",
    "    start = None\n",
    "    stop = None\n",
    "    for newstart, newstop in intervals:\n",
    "        if start is None: # start first\n",
    "            start = newstart\n",
    "            stop = newstop\n",
    "        elif np.allclose(newstart, stop): # extend\n",
    "            stop = newstop\n",
    "        else:  # end previous and start new \n",
    "            merged_intervals.append((start, stop))\n",
    "            start = newstart\n",
    "            stop = newstop\n",
    "    # get terminal interval\n",
    "    merged_intervals.append((start, newstop))\n",
    "    return(np.array(merged_intervals))\n",
    "\n",
    "def plot_merged_segments(merged_segments_from_pop):\n",
    "    \"\"\"rough plot of local ancestry, plots the output of find_local_ancestry()\"\"\"\n",
    "    fig, ax = plt.subplots(figsize=(10,2))\n",
    "    for anc_pop, ms in merged_segments_from_pop.items():\n",
    "        lines = zip(zip(ms[:,0], itertools.repeat(anc_pop)), zip(ms[:,1], itertools.repeat(anc_pop)))\n",
    "        lc = mc.LineCollection(lines, linewidths=8)\n",
    "        ax.add_collection(lc)\n",
    "    ax.margins(0.1)\n",
    "    maxpop = max(merged_segments_from_pop.keys())\n",
    "    plt.ylim(-.2, maxpop+.2)\n",
    "    plt.yticks(range(maxpop+1), range(maxpop+1))\n",
    "    plt.ylabel('source population')\n",
    "    plt.xlabel('bp position')\n",
    "    \n",
    "def find_local_ancestry(sample, time, ts, mig_int_tree, tree_idx):\n",
    "    \"\"\"returns a dict.\n",
    "    keys are the ancestral populations.\n",
    "    values are the contiguous tracks of ancestry for the sample inherited from that pop.  \n",
    "    Pops are defined at time \"\"\"\n",
    "    t0 = t.time()\n",
    "    #Make a dictionaty of migrations with nodes as keys\n",
    "    # mig_int_tree = dict()\n",
    "    # for migration in ts.migrations():\n",
    "    #     if migration.time < time:\n",
    "    #         if migration.node not in mig_int_tree:\n",
    "    #             mig_int_tree[migration.node] = [migration]\n",
    "    #         else:\n",
    "    #             mig_int_tree[migration.node].append(migration)\n",
    "    # for each tree, find the oldest node prior to [time]\n",
    "    ancestor_before_timex_of_tree = dict()\n",
    "    tree = ts.first()\n",
    "    for i in tree_idx:\n",
    "        tree.seek_index(i)\n",
    "        #if(tree.num_sites > 0):\n",
    "        target = sample\n",
    "        node_time = tree.time(target)\n",
    "        parent_node = tree.parent(target)\n",
    "        if parent_node != tskit.NULL:\n",
    "            parent_time = tree.time(tree.parent(target))\n",
    "        else:\n",
    "            parent_time = time+1 \n",
    "        while parent_time < time:\n",
    "            node_time = parent_time\n",
    "            target = tree.parent(target)\n",
    "            parent_node = tree.parent(target)\n",
    "            if parent_node != tskit.NULL:\n",
    "                parent_time = tree.time(tree.parent(target))\n",
    "            else:\n",
    "                parent_time = time+1 \n",
    "        ancestor_before_timex_of_tree[tree.index] = target\n",
    "    # loop over trees and their relevant ancestors, find the pop that contributes to this sample \n",
    "    pop_at_time_of_parent = dict()\n",
    "    pop_at_time_of_tree = dict()\n",
    "    intervals_of_tree = dict()\n",
    "    tree.first()\n",
    "    for i in tree_idx:\n",
    "        tree.seek_index(i)\n",
    "        #if(tree.num_sites > 0):\n",
    "        parent_node = ancestor_before_timex_of_tree[tree.index]\n",
    "        if parent_node in mig_int_tree:\n",
    "            overlapping_migrations = list(filter(lambda x: x.left <= tree.interval[0] and x.right >= tree.interval[0], mig_int_tree[parent_node]))\n",
    "        else:\n",
    "            overlapping_migrations = []\n",
    "        # the original population of the node\n",
    "        pop_at_time_of_parent[parent_node] = tree.population(parent_node)\n",
    "        if len(overlapping_migrations) > 0:\n",
    "            #print len(overlapping_migrations)\n",
    "            overlapping_migrations = sorted(overlapping_migrations, \n",
    "                                            key = lambda x : x.time)\n",
    "            #last_mig = overlapping_migrations[-1]#.pop()\n",
    "            last_mig = overlapping_migrations.pop()\n",
    "            #assert (pop_at_time_of_parent[parent_node] == mig.source), (parent_node, mig.time, pop_at_time_of_parent[parent_node], mig.source, mig.dest)\n",
    "            pop_at_time_of_parent[parent_node] = last_mig.dest\n",
    "        pop_at_time_of_tree[tree.index] = pop_at_time_of_parent[parent_node]\n",
    "        intervals_of_tree[tree.index] = tree.interval\n",
    "    # for each tree, record the interval and pop\n",
    "    # intervals_of_tree = dict()\n",
    "    # for tree in ts.trees():\n",
    "    #     intervals_of_tree[tree.index] = tree.interval\n",
    "    segments_from_pop = defaultdict(list)\n",
    "    for ti, anc_pop in pop_at_time_of_tree.items():\n",
    "        segments_from_pop[anc_pop].append(intervals_of_tree[ti])\n",
    "    # merge adjacent intervals from the same population\n",
    "    merged_segments_from_pop = dict()\n",
    "    for anc_pop in segments_from_pop:\n",
    "        merged_segments_from_pop[anc_pop] = merge_intervals(segments_from_pop[anc_pop])  \n",
    "    t5 = t.time()\n",
    "    print(sample, \"done in \", t5-t0, \"seconds.\")\n",
    "    return({sample: merged_segments_from_pop})"
   ]
  },
  {
   "cell_type": "code",
   "execution_count": null,
   "metadata": {},
   "outputs": [],
   "source": [
    "ts_mu = tskit.load(\"../multi_sim_5000_22_mu.tree\")"
   ]
  },
  {
   "cell_type": "code",
   "execution_count": null,
   "metadata": {},
   "outputs": [],
   "source": [
    "ex = list(pd.read_csv(\"../ids/ids_22.txt\", sep=\"\\t\", header=None)[1])"
   ]
  },
  {
   "cell_type": "code",
   "execution_count": null,
   "metadata": {},
   "outputs": [],
   "source": [
    "ex_ids = []\n",
    "for i in ts_mu.sites():\n",
    "    if(int(i.position) not in ex):\n",
    "        ex_ids.append(i.id)"
   ]
  },
  {
   "cell_type": "code",
   "execution_count": null,
   "metadata": {},
   "outputs": [],
   "source": [
    "ts_trim = ts_mu.delete_sites(ex_ids)"
   ]
  },
  {
   "cell_type": "code",
   "execution_count": null,
   "metadata": {},
   "outputs": [],
   "source": [
    "sample_nodes = list()\n",
    "pop_nodes = list()\n",
    "\n",
    "for node in ts_mu.nodes():\n",
    "    if node.time == 0 :\n",
    "        sample_nodes.append(node.id)\n",
    "        if node.population == 4:\n",
    "            pop_nodes.append(\"Nama\")\n",
    "        if node.population == 6:\n",
    "            pop_nodes.append(\"MSL\")\n",
    "        if node.population == 7:\n",
    "            pop_nodes.append(\"GBR\")\n",
    "        if node.population == 8:\n",
    "            pop_nodes.append(\"EP\")\n",
    "        if node.population == 10:\n",
    "            pop_nodes.append(\"EAS\")\n",
    "        if node.population == 11:\n",
    "            pop_nodes.append(\"SAS\")\n",
    "        if node.population == 12:\n",
    "            pop_nodes.append(\"SAC\")"
   ]
  },
  {
   "cell_type": "code",
   "execution_count": null,
   "metadata": {},
   "outputs": [],
   "source": [
    "tree_sites = []\n",
    "for tree in ts_trim.trees():\n",
    "    tree_sites.append(tree.num_sites)"
   ]
  },
  {
   "cell_type": "code",
   "execution_count": null,
   "metadata": {},
   "outputs": [],
   "source": [
    "tree_idx = []\n",
    "for tree in ts_trim.trees():\n",
    "    if(tree.num_sites > 0):\n",
    "        tree_idx.append(tree.index)"
   ]
  },
  {
   "cell_type": "code",
   "execution_count": null,
   "metadata": {},
   "outputs": [],
   "source": [
    "len(tree_idx)"
   ]
  },
  {
   "cell_type": "code",
   "execution_count": null,
   "metadata": {},
   "outputs": [],
   "source": [
    "time = 100\n",
    "#Make a dictionaty of migrations with nodes as keys\n",
    "mig_int_tree = dict()\n",
    "for migration in ts_mu.migrations():\n",
    "    if migration.time < time:\n",
    "        if migration.node not in mig_int_tree:\n",
    "            mig_int_tree[migration.node] = [migration]\n",
    "        else:\n",
    "            mig_int_tree[migration.node].append(migration)"
   ]
  },
  {
   "cell_type": "code",
   "execution_count": null,
   "metadata": {},
   "outputs": [],
   "source": [
    "test = find_local_ancestry(0, time, ts_trim, mig_int_tree)"
   ]
  },
  {
   "cell_type": "code",
   "execution_count": null,
   "metadata": {},
   "outputs": [],
   "source": [
    "def find_local_ancestry(samples, time, ts, mig_int_tree):\n",
    "    t0 = t.time()\n",
    "    ancestor_before_timex_of_tree = dict()\n",
    "    pop_at_time_of_parent = dict()\n",
    "    pop_at_time_of_tree = dict()\n",
    "    intervals_of_tree = dict()\n",
    "    merged_segments_from_pop = dict()\n",
    "    for sample in samples:\n",
    "        ancestor_before_timex_of_tree[sample] = dict()\n",
    "        pop_at_time_of_tree[sample] = dict()\n",
    "        intervals_of_tree[sample] = dict()\n",
    "        merged_segments_from_pop[sample] = dict()\n",
    "    for tree in ts.trees():\n",
    "        if(tree.num_sites > 0):\n",
    "            for sample in samples:\n",
    "                target = sample\n",
    "                node_time = tree.time(target)\n",
    "                parent_node = tree.parent(target)\n",
    "                if parent_node != tskit.NULL:\n",
    "                    parent_time = tree.time(tree.parent(target))\n",
    "                else:\n",
    "                    parent_time = time+1 \n",
    "                while parent_time < time:\n",
    "                    node_time = parent_time\n",
    "                    target = tree.parent(target)\n",
    "                    parent_node = tree.parent(target)\n",
    "                    if parent_node != tskit.NULL:\n",
    "                        parent_time = tree.time(tree.parent(target))\n",
    "                    else:\n",
    "                        parent_time = time+1 \n",
    "                parent_node = target\n",
    "                if parent_node in mig_int_tree:\n",
    "                    overlapping_migrations = list(filter(lambda x: x.left <= tree.interval[0] and x.right >= tree.interval[0], mig_int_tree[parent_node]))\n",
    "                else:\n",
    "                    overlapping_migrations = []\n",
    "                pop_at_time_of_parent[parent_node] = tree.population(parent_node)\n",
    "                if len(overlapping_migrations) > 0:\n",
    "                    overlapping_migrations = sorted(overlapping_migrations, \n",
    "                                                    key = lambda x : x.time)\n",
    "                    last_mig = overlapping_migrations.pop()\n",
    "                    pop_at_time_of_parent[parent_node] = last_mig.dest\n",
    "                pop_at_time_of_tree[sample][tree.index] = pop_at_time_of_parent[parent_node]\n",
    "                intervals_of_tree[sample][tree.index] = tree.interval\n",
    "    for sample in samples:\n",
    "        segments_from_pop = defaultdict(list)\n",
    "        for ti, anc_pop in pop_at_time_of_tree[sample].items():\n",
    "            segments_from_pop[anc_pop].append(intervals_of_tree[sample][ti]) \n",
    "        for anc_pop in segments_from_pop:\n",
    "            merged_segments_from_pop[sample][anc_pop] = merge_intervals(segments_from_pop[anc_pop])\n",
    "    t5 = t.time()\n",
    "    print(\"done in \", t5-t0, \"seconds.\")\n",
    "    return(merged_segments_from_pop)"
   ]
  },
  {
   "cell_type": "code",
   "execution_count": null,
   "metadata": {},
   "outputs": [],
   "source": [
    "a = dict()\n",
    "a[0] = {1: \"A\"}\n",
    "a[0][1]"
   ]
  },
  {
   "cell_type": "code",
   "execution_count": null,
   "metadata": {},
   "outputs": [],
   "source": [
    "test3 = find_local_ancestry([0,1,2,3,4], time, ts_trim, mig_int_tree)"
   ]
  },
  {
   "cell_type": "code",
   "execution_count": null,
   "metadata": {},
   "outputs": [],
   "source": [
    "pop_nodes[19999]"
   ]
  },
  {
   "cell_type": "code",
   "execution_count": null,
   "metadata": {},
   "outputs": [],
   "source": [
    "test2[4]"
   ]
  },
  {
   "cell_type": "code",
   "execution_count": null,
   "metadata": {},
   "outputs": [],
   "source": [
    "t0 = t.time()\n",
    "ancestor_before_timex_of_tree = dict()\n",
    "for sample in [0,1]:\n",
    "    ancestor_before_timex_of_tree[sample] = dict()\n",
    "for tree in ts_trim.trees():\n",
    "    if(tree.num_sites > 0):\n",
    "        for sample in [0,1]:\n",
    "            target = sample\n",
    "            node_time = tree.time(target)\n",
    "            parent_node = tree.parent(target)\n",
    "            if parent_node != tskit.NULL:\n",
    "                parent_time = tree.time(tree.parent(target))\n",
    "            else:\n",
    "                parent_time = time+1 \n",
    "            while parent_time < time:\n",
    "                node_time = parent_time\n",
    "                target = tree.parent(target)\n",
    "                parent_node = tree.parent(target)\n",
    "                if parent_node != tskit.NULL:\n",
    "                    parent_time = tree.time(tree.parent(target))\n",
    "                else:\n",
    "                    parent_time = time+1 \n",
    "            ancestor_before_timex_of_tree[sample][tree.index] = target"
   ]
  },
  {
   "cell_type": "code",
   "execution_count": null,
   "metadata": {},
   "outputs": [],
   "source": [
    "ancestor_before_timex_of_tree"
   ]
  },
  {
   "cell_type": "code",
   "execution_count": null,
   "metadata": {},
   "outputs": [],
   "source": [
    "ADM_la = dict()\n",
    "samples = sample_nodes[0:1]\n",
    "\n",
    "if __name__ == '__main__':\n",
    "    with mp.Pool(2) as p:\n",
    "        results = [p.apply_async(find_local_ancestry, args=(sample, time, ts_trim, mig_int_tree)) for sample in samples]                     \n",
    "        for r in results:\n",
    "            key = next(iter(r.get()))\n",
    "            ADM_la[key] = r.get()[key]"
   ]
  },
  {
   "cell_type": "code",
   "execution_count": null,
   "metadata": {},
   "outputs": [],
   "source": [
    "ts_trim.at_index(tree_idx[0])"
   ]
  },
  {
   "cell_type": "code",
   "execution_count": null,
   "metadata": {},
   "outputs": [],
   "source": [
    "ADM_la[0]"
   ]
  },
  {
   "cell_type": "code",
   "execution_count": null,
   "metadata": {},
   "outputs": [],
   "source": [
    "ADM_la[1]"
   ]
  },
  {
   "cell_type": "code",
   "execution_count": null,
   "metadata": {},
   "outputs": [],
   "source": [
    "pos_raw = sorted(set(list(chain.from_iterable(chain.from_iterable(pd.DataFrame(ADM_sub).iloc[0])))))\n",
    "pos = np.array(list(map(lambda x: int(x), pos_raw)))\n",
    "\n",
    "base = pd.DataFrame({\"chm\":[19]*(len(pos)-1), \"spos\":pos[:-1], \"epos\":pos[1:]})\n",
    "\n",
    "inds = dict()\n",
    "for i in range(15192,15384):\n",
    "    ind = ADM_la.get(i)\n",
    "    #anc = len(ind)\n",
    "    info = list([0] * len(pos[1:]))\n",
    "    #for a in range(anc):\n",
    "    if np.array(ind.get(1) != None).any():\n",
    "        for p in ind.get(1):\n",
    "            start = list(pos[:-1]).index(int(p[0]))\n",
    "            stop = list(pos[1:]).index(int(p[1])) + 1\n",
    "            r = len(range(start,stop))\n",
    "            info[start:stop] = [int(a)] * r\n",
    "    inds[i] = np.array(info)\n",
    "    #print(len(info))\n",
    "\n",
    "inds = pd.DataFrame(inds)\n",
    "sp = pd.concat([base, inds], axis=1)"
   ]
  },
  {
   "cell_type": "code",
   "execution_count": null,
   "metadata": {},
   "outputs": [],
   "source": []
  }
 ],
 "metadata": {
  "kernelspec": {
   "display_name": "Python 3 (ipykernel)",
   "language": "python",
   "name": "python3"
  },
  "language_info": {
   "codemirror_mode": {
    "name": "ipython",
    "version": 3
   },
   "file_extension": ".py",
   "mimetype": "text/x-python",
   "name": "python",
   "nbconvert_exporter": "python",
   "pygments_lexer": "ipython3",
   "version": "3.9.5"
  }
 },
 "nbformat": 4,
 "nbformat_minor": 4
}
